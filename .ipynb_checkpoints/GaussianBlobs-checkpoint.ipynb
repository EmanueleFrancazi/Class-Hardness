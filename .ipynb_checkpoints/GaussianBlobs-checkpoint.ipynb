{
 "cells": [
  {
   "cell_type": "markdown",
   "id": "f35bb398",
   "metadata": {},
   "source": [
    "# Hardness\n",
    "The purpose of this study is to shed some light on the concept of learning hardness.\n",
    "The starting point are some preliminary observations; from these observations we formulate a first simple model treatable analitically."
   ]
  },
  {
   "cell_type": "markdown",
   "id": "e666be03",
   "metadata": {},
   "source": [
    "## Conjectures from observations\n",
    "[preliminary observations](http://localhost:8890/notebooks/Inter-classes_angles.ipynb) seems to suggest that:\n",
    "* the hardness of a specific class is highly connected to the other ones involved in the classification problem (The \"hard class\" of the first experiment become the \"easy\" in the second, with a substitution of one of the classes involved in the learning problem)\n"
   ]
  },
  {
   "cell_type": "markdown",
   "id": "f6c2827c",
   "metadata": {},
   "source": [
    "## Hypothesis \n",
    "We start tackling the problem with a theoretical analysis on a simple model. The study is fixed from the following assumptions; some of them are reasonable hypothesis others are just useful to approach the problem with a first analisys and can be relaxed in a second time with a more deep analisys.\n",
    "\n",
    "The assumption used for the model construction are the following:\n",
    "* **2 classes are considered** : this is not a necessary hypothesys, we can easly extend the analisys to more classes. On the other hand we expect that the learning contribution of the hardness of a given classes wil be given by the more similar class among the whole group.\n",
    "* we are using the nodes of the last layer before the output as representation of the sample (and accordingly of the classes); we assume that the distribution of **the class representation is, in good approximation, a multivariate gaussian**\n",
    "* **the variance is equal in all direction in the space of representation** : this is an assumtion to simplify the calculus (in this way is easy to recognise samples that cause the hardness: samples that cross boundary classifier surface will be concentrated in the direction of the axe that connect the two gaussian centres)\n",
    "* **Linear discriminant analysis hypothesis**: the correlation matrix, which fix distribution's shape, is equal for each class. This \"mirror hypothesis\" is not a necessary hypothesis, but semplify calculus. In this way boundary sourfaces are linear (hyper-planes).\n",
    "* The norm of various representation is not so different; this hypothesys is connected \n"
   ]
  },
  {
   "cell_type": "code",
   "execution_count": 7,
   "id": "934a0534",
   "metadata": {},
   "outputs": [
    {
     "data": {
      "text/latex": [
       "We consider a gaussian blobs as representation for each class (to deepen LDA see chapter 4 of \"Kevin P. Murphy - Machine Learning A Probabilistic Perspective\")\n",
       "Our purpose is to find a suitable measure for the hardness of the classes. Intuititively a class will be \n",
       "hard to classify if it is similar to another one beacous some of its element will be mixed with a conseguence wrong classification.\n",
       "we can start from this to define a measure for the hardness as the fraction of sample belonging to the class wrongly associated by the\n",
       "machine to a different one (following this reasoning actually we can also define an hardness due to one specific class as the fraction of wrong classification from our class that flows \n",
       "                           into one specific class)\n",
       "Now to express the idea of the calculus we start from a 1-D model. In this case our representation space is a line and the division boundary is a point.\n",
       "More in detail, for the simmetry of our model, the boundary will be the poin in the mean between the 2 centres of the gaussian blobs (distribution of the 2 classes samples).\n",
       "To fix the notation, we call the 2 classes $A$ and $B$; $\\xi_i \\in A \\sim  \\mathcal{N}(\\mu_a, \\sigma_a) $ while $\\xi_i \\in B \\sim  \\mathcal{N}(\\mu_b, \\sigma_b) $,\n",
       "with $\\sigma_a = \\sigma_b$. If I want to count the number of element (over the $A$ sample with size $N_A$) wrong classified I should compute:\n",
       "    \\begin{equation}\n",
       "        C\\int_{\\frac{\\mu_a + \\mu_b}{2}}^{\\infty} dx' e^{\\frac{-(x' -\\mu_a)^2}{2 \\sigma_a^2}} = C\\int_t^{\\infty} dx' e^{-\\frac{x'^2}{2 \\sigma_a^2}}\n",
       "    \\end{equation}\n",
       "with $t = \\frac{\\mu_b -\\mu_a}{2}$; $C$ is the normalization constant. There are two way to solve the integral; the first one gives us a slowly converging series.\n",
       "The second one provide a non converging, but asymptotic serie. To follows this second approach, we start integrating by part:\n",
       "    \\begin{equation}\n",
       "        C\\int_t^{\\infty} dx' e^{-\\frac{x'^2}{2 \\sigma_a^2}} = C\\frac{\\sigma_a^2}{t}e^{-\\frac{x'^2}{2 \\sigma_a^2}} - C\\int_t^{\\infty} dx'\\frac{\\sigma_a^2}{x'^2} e^{-\\frac{x'^2}{2 \\sigma_a^2}} =\n",
       "                                                                                      C\\frac{\\sigma_a^2}{t}e^{-\\frac{x'^2}{2 \\sigma_a^2}} - C\\int_t^{\\infty} dx'^2 \\frac{\\sigma_a^2}{2 (x'^2)^{\\frac{3}{2}}} e^{-\\frac{x'^2}{2 \\sigma_a^2}}\n",
       "\n",
       "    \\end{equation}\n",
       "    \n",
       "    Iterating the same approach we obtain the following expansion:\n",
       "    \\begin{equation}\n",
       "   C\\int_t^{\\infty} dx' e^{-\\frac{x'^2}{2 \\sigma_a^2}} = C e^{-t^2} \\sum_{n=0}^{M-1} (-\\sigma_a^2)^n (2n-1)!! \\frac{1}{t^{2n+1}} + R_M(x)\n",
       "   \\end{equation}\n"
      ],
      "text/plain": [
       "<IPython.core.display.Latex object>"
      ]
     },
     "metadata": {},
     "output_type": "display_data"
    }
   ],
   "source": [
    "%%latex\n",
    "We consider a gaussian blobs as representation for each class (to deepen LDA see chapter 4 of \"Kevin P. Murphy - Machine Learning A Probabilistic Perspective\")\n",
    "Our purpose is to find a suitable measure for the hardness of the classes. Intuititively a class will be \n",
    "hard to classify if it is similar to another one beacous some of its element will be mixed with a conseguence wrong classification.\n",
    "we can start from this to define a measure for the hardness as the fraction of sample belonging to the class wrongly associated by the\n",
    "machine to a different one (following this reasoning actually we can also define an hardness due to one specific class as the fraction of wrong classification from our class that flows \n",
    "                           into one specific class)\n",
    "Now to express the idea of the calculus we start from a 1-D model. In this case our representation space is a line and the division boundary is a point.\n",
    "More in detail, for the simmetry of our model, the boundary will be the poin in the mean between the 2 centres of the gaussian blobs (distribution of the 2 classes samples).\n",
    "To fix the notation, we call the 2 classes $A$ and $B$; $\\xi_i \\in A \\sim  \\mathcal{N}(\\mu_a, \\sigma_a) $ while $\\xi_i \\in B \\sim  \\mathcal{N}(\\mu_b, \\sigma_b) $,\n",
    "with $\\sigma_a = \\sigma_b$. If I want to count the number of element (over the $A$ sample with size $N_A$) wrong classified I should compute:\n",
    "    \\begin{equation}\n",
    "        C\\int_{\\frac{\\mu_a + \\mu_b}{2}}^{\\infty} dx' e^{\\frac{-(x' -\\mu_a)^2}{2 \\sigma_a^2}} = C\\int_t^{\\infty} dx' e^{-\\frac{x'^2}{2 \\sigma_a^2}}\n",
    "    \\end{equation}\n",
    "with $t = \\frac{\\mu_b -\\mu_a}{2}$; $C$ is the normalization constant. There are two way to solve the integral; the first one gives us a slowly converging series.\n",
    "The second one provide a non converging, but asymptotic serie. To follows this second approach, we start integrating by part:\n",
    "    \\begin{equation}\n",
    "        C\\int_t^{\\infty} dx' e^{-\\frac{x'^2}{2 \\sigma_a^2}} = C\\frac{\\sigma_a^2}{t}e^{-\\frac{x'^2}{2 \\sigma_a^2}} - C\\int_t^{\\infty} dx'\\frac{\\sigma_a^2}{x'^2} e^{-\\frac{x'^2}{2 \\sigma_a^2}} =\n",
    "                                                                                      C\\frac{\\sigma_a^2}{t}e^{-\\frac{x'^2}{2 \\sigma_a^2}} - C\\int_t^{\\infty} dx'^2 \\frac{\\sigma_a^2}{2 (x'^2)^{\\frac{3}{2}}} e^{-\\frac{x'^2}{2 \\sigma_a^2}}\n",
    "\n",
    "    \\end{equation}\n",
    "    \n",
    "    Iterating the same approach we obtain the following expansion:\n",
    "    \\begin{equation}\n",
    "   C\\int_t^{\\infty} dx' e^{-\\frac{x'^2}{2 \\sigma_a^2}} = C e^{-t^2} \\sum_{n=0}^{M-1} (-\\sigma_a^2)^n (2n-1)!! \\frac{1}{t^{2n+1}} + R_M(x)\n",
    "   \\end{equation}"
   ]
  },
  {
   "cell_type": "markdown",
   "id": "f4d42015",
   "metadata": {},
   "source": [
    "\n",
    "## A more practical starting point\n",
    "Following the previous way we can characterize the hardness of the model integrating an asymptotic serie which represent an estimate on the probability density to find a point belonging to a class after the division surface boundary (so to classify it in a wrong way).\n",
    "We can choose another, more practical approach to quantify the hardness of the classification.\n",
    "Again our analisys will start from LDA analysis; (for more details about it, see for example chapter 4 of [this book](https://books.google.ch/books?hl=en&lr=&id=RC43AgAAQBAJ&oi=fnd&pg=PR7&dq=murphy+machine+learning+a+probabilistic+perspective&ots=umhD8ARw5b&sig=o_rMZj5XJdyCEi6YgEpU0XuiAg8&redir_esc=y#v=onepage&q=murphy%20machine%20learning%20a%20probabilistic%20perspective&f=false) )\n",
    "\n"
   ]
  },
  {
   "cell_type": "code",
   "execution_count": 8,
   "id": "24ac25b8",
   "metadata": {},
   "outputs": [
    {
     "data": {
      "text/latex": [
       "We can reformulate a generic classification problem in these terms: given a sample $\\vec{x}$ and a set of possible classes\n",
       "    we can estimate the one $\\vec{x}$ belongs to as the class $c$ that maximize $P(y=c | \\vec{x}, \\vec{\\theta})$.\n",
       "    Using Bayes we can express the previous probability as:\n",
       "        \\begin{equation}\n",
       "            P(y=c | \\vec{x}, \\vec{\\theta}) = \\frac{P(y=c | \\vec{x}) P(\\vec{x} | y=c , \\vec{\\theta}) }{ \\sum_{c'} P(y=c' | \\vec{x}) P(\\vec{x} | y=c' , \\vec{\\theta}) }\n",
       "        \\end{equation}\n",
       "Now consider the case of gaussian dataset, or, in other words $P(\\vec{x} | y=c , \\vec{\\theta}) \\sim  \\mathcal{N}(\\vec{x} | \\mu_c, \\Sigma_c)$\n",
       "                                                                                                                                     \n",
       "\n",
       "If we add the hypothesis that $ \\Sigma_c = \\Sigma \\forall c$, substituting the gaussian form into $P(y=c | \\vec{x}, \\vec{\\theta})$\n",
       ", it's easy to see that the quadratic term at exponent (which is independent from the class index) simplify with \n",
       "cthe corresponding in the denominator. So, in this simplify case, in which I assumed an equal correlation matrix\n",
       "for all the classes, we have a linear form at exponent; this means that the probability function as the form of a \n",
       "logistic function whoose division surface has a linear profile (line or, in general, an hyperplane).\n",
       "If we focus on a two classes problem I will have$\\big( \\text{defining } \\beta_c = \\Sigma^{-1} \\mu_c$, $\\gamma_c = -\\frac{1}{2} \\mu_c^T \\Sigma^{-1} \\mu_c + \\log(P(y=c|\\theta))  \\big)$, consider a 2-class problem:\n",
       "\\begin{equation}                                                                                                                                         \n",
       "        P(y=1|\\vec{x} , \\vec{\\theta}) = \\frac{e^{\\vec{\\beta_1}^T \\vec{x} + \\gamma_1}}{e^{\\vec{\\beta_1}^T \\vec{x} + \\gamma_1} + e^{\\vec{\\beta_0}^T \\vec{x} + \\gamma_0}} = \\frac{1}{1 +  e^{(\\vec{\\beta_0}-\\vec{\\beta_1})^T \\vec{x} + (\\gamma_0-\\gamma_1)}}\n",
       "\\end{equation}     \n",
       "So in the last side we have a sigmoid function; the magnitude of the vector $(\\vec{\\beta_0}-\\vec{\\beta_1})$ determines the stepness \n",
       "of the function; so we can use it to parametrize the hardness of the division bettween the 2 classes. In fact the more \n",
       "the 2 classes are devided, the more boundary surface will be steepest.                                                                                                                                      \n"
      ],
      "text/plain": [
       "<IPython.core.display.Latex object>"
      ]
     },
     "metadata": {},
     "output_type": "display_data"
    }
   ],
   "source": [
    "%%latex\n",
    "We can reformulate a generic classification problem in these terms: given a sample $\\vec{x}$ and a set of possible classes\n",
    "    we can estimate the one $\\vec{x}$ belongs to as the class $c$ that maximize $P(y=c | \\vec{x}, \\vec{\\theta})$.\n",
    "    Using Bayes we can express the previous probability as:\n",
    "        \\begin{equation}\n",
    "            P(y=c | \\vec{x}, \\vec{\\theta}) = \\frac{P(y=c | \\vec{x}) P(\\vec{x} | y=c , \\vec{\\theta}) }{ \\sum_{c'} P(y=c' | \\vec{x}) P(\\vec{x} | y=c' , \\vec{\\theta}) }\n",
    "        \\end{equation}\n",
    "Now consider the case of gaussian dataset, or, in other words $P(\\vec{x} | y=c , \\vec{\\theta}) \\sim  \\mathcal{N}(\\vec{x} | \\mu_c, \\Sigma_c)$\n",
    "                                                                                                                                     \n",
    "\n",
    "If we add the hypothesis that $ \\Sigma_c = \\Sigma \\forall c$, substituting the gaussian form into $P(y=c | \\vec{x}, \\vec{\\theta})$\n",
    ", it's easy to see that the quadratic term at exponent (which is independent from the class index) simplify with \n",
    "cthe corresponding in the denominator. So, in this simplify case, in which I assumed an equal correlation matrix\n",
    "for all the classes, we have a linear form at exponent; this means that the probability function as the form of a \n",
    "logistic function whoose division surface has a linear profile (line or, in general, an hyperplane).\n",
    "If we focus on a two classes problem I will have$\\big( \\text{defining } \\beta_c = \\Sigma^{-1} \\mu_c$, $\\gamma_c = -\\frac{1}{2} \\mu_c^T \\Sigma^{-1} \\mu_c + \\log(P(y=c|\\theta))  \\big)$, consider a 2-class problem:\n",
    "\\begin{equation}                                                                                                                                         \n",
    "        P(y=1|\\vec{x} , \\vec{\\theta}) = \\frac{e^{\\vec{\\beta_1}^T \\vec{x} + \\gamma_1}}{e^{\\vec{\\beta_1}^T \\vec{x} + \\gamma_1} + e^{\\vec{\\beta_0}^T \\vec{x} + \\gamma_0}} = \\frac{1}{1 +  e^{(\\vec{\\beta_0}-\\vec{\\beta_1})^T \\vec{x} + (\\gamma_0-\\gamma_1)}}\n",
    "\\end{equation}     \n",
    "So in the last side we have a sigmoid function; the magnitude of the vector $(\\vec{\\beta_0}-\\vec{\\beta_1})$ determines the stepness \n",
    "of the function; so we can use it to parametrize the hardness of the division bettween the 2 classes. In fact the more \n",
    "the 2 classes are devided, the more boundary surface will be steepest.                                                                                                                                      "
   ]
  },
  {
   "cell_type": "markdown",
   "id": "5d53f050",
   "metadata": {},
   "source": [
    "### A numerical implementation (linear network)\n",
    "Consider the neural network with the following architecture: just an input layer connected to an output one, without intermediate hidden layer. This modelization represent the last layer of a generic network architecture; fixing the input dataset in this optic is equivalent to congelate the last layer representation (block the dynamic) and wait the termalization of the last weight set. If in a generic (or meaningful) part of our dynamic the gaussian hypothesis for this representation is valid then our analysis is meaningful also in that more complex scenario. But for now forget it about this generalization reasoning and focus on the simple linear case.\n",
    "If we use as loss function the cross entropy between the real output distribution and the predicted one, using a soft-max activation function on the output layer (Boltzmann-like) we are using a form for the estimated probability distribution equal to the one used in the LDA analysis. Since this analysis start from the real theoretical probability distribution, and since during the learning dynamic we are basically reducing the distance between the empirical probability distribution and the empirical one, if the samples follow the distribution at the hypothesis of LDA analisys, in the limit of dataset size going to infinity the parameters infered by the learning should converge to the one of LDA. Plus, in every cases in which the similarity between 2 classes (1,2) is greater than the one between 1 and a second generic class we can still use the equation of the last block (formally valid for the 2 class problem), since the other terms in the denominators will be neglectable.\n"
   ]
  },
  {
   "cell_type": "markdown",
   "id": "bcf72cf4",
   "metadata": {},
   "source": [
    "#### Verify consistence between linear network and LDA\n",
    "Consider a classification problem with 2 classes involved; we have an estimation of the asymptotic value of the weights connecting input-output layers (from LDA) we calculate at each step the norm of the distance between this vector and the real one to see if it goes to 0 for t going to infinity\n",
    "\n"
   ]
  },
  {
   "cell_type": "markdown",
   "id": "0551003a",
   "metadata": {},
   "source": [
    "#### Measure of hardness in multi-classification problem\n",
    "We consider a 3-class case (2 similar, 1 distant) and observe if there is consistence between the hardness estimated from weight and distribution parameters"
   ]
  },
  {
   "cell_type": "markdown",
   "id": "cc094fe7",
   "metadata": {},
   "source": [
    "## More advanced misclassified measures\n",
    "\n",
    "### Fisher approach\n",
    "Fisher approaches the 2-class problem in a different way; Fisher’s idea was to transform the multivariate observa-\n",
    "tions to univariate observations y such that the y’s derived from different population were separated as much as possible. HE suggested taking linear combinations\n",
    "of observations to create y’s because they are simple enough functions of the x to be handled\n",
    "easily. Fisher’s approach does not assume that the populations are normal. It does,\n",
    "however, implicitly assume that the population covariance matrices are equal, be-\n",
    "cause a pooled estimate of the common covariance matrix is used.\n",
    "\n",
    "The separation of these two sets of univariate\n",
    "y’s is assessed in terms of the difference between the 2 corresponding mean values, expressed in standard\n",
    "deviation units (for more details see, for example, [this](https://statistics.columbian.gwu.edu/sites/g/files/zaxdzs1911/f/downloads/Syllabus%20Stat%206215.11%20Fall%202014%20Hu.pdf))"
   ]
  },
  {
   "cell_type": "code",
   "execution_count": 9,
   "id": "8d452c59",
   "metadata": {},
   "outputs": [
    {
     "data": {
      "text/latex": [
       "separation $= \\frac{|\\overline{y}_1 - \\overline{y}_2|}{\\sigma_y}$, with $\\sigma_y = \\frac{\\sum_{j=1}^{n_1} (y_{j1} - \\overline{y}_1 )^2 + \\sum_{j=1}^{n_2} (y_{j2} - \\overline{y}_2 )^2 }{n_1 + n_2 -2}$\n",
       "The objective is to select the linear combina-\n",
       "tion of the x to achieve maximum separation of the sample means $\\overline{y}_1$ and $\\overline{y}_2$.\n",
       "Using Cauchy–Schwarz inequality, we can proof that $\\hat{y} = \\vec{a}^T \\vec{x} = (\\vec{x}_1 - \\vec{x}_2)^T \\Sigma_{pooled}^{-1} \\vec{x} $ maximizes the ratio $\\frac{(\\overline{y}_1 - \\overline{y}_2)^2}{\\sigma_y^2}$\n"
      ],
      "text/plain": [
       "<IPython.core.display.Latex object>"
      ]
     },
     "metadata": {},
     "output_type": "display_data"
    }
   ],
   "source": [
    "%%latex\n",
    "separation $= \\frac{|\\overline{y}_1 - \\overline{y}_2|}{\\sigma_y}$, with $\\sigma_y = \\frac{\\sum_{j=1}^{n_1} (y_{j1} - \\overline{y}_1 )^2 + \\sum_{j=1}^{n_2} (y_{j2} - \\overline{y}_2 )^2 }{n_1 + n_2 -2}$\n",
    "The objective is to select the linear combina-\n",
    "tion of the x to achieve maximum separation of the sample means $\\overline{y}_1$ and $\\overline{y}_2$.\n",
    "Using Cauchy–Schwarz inequality, we can proof that $\\hat{y} = \\vec{a}^T \\vec{x} = (\\vec{x}_1 - \\vec{x}_2)^T \\Sigma_{pooled}^{-1} \\vec{x} $ maximizes the ratio $\\frac{(\\overline{y}_1 - \\overline{y}_2)^2}{\\sigma_y^2}$"
   ]
  },
  {
   "cell_type": "markdown",
   "id": "71d629b9",
   "metadata": {},
   "source": [
    "Basically in Fisher's approach all\n",
    "points in the scatter plots are projected onto a line in the direction a N , and this direc-\n",
    "tion is varied until the samples are maximally separated. \n",
    "Provided that the two normal populations have the same covariance ma-\n",
    "trix, Fisher’s classification rule is equivalent to the minimum ECM rule with equal\n",
    "prior probabilities and equal costs of misclassification. ECM rule with equal costs of misclassification is the same result of LDA discussed previously.\n",
    "The huge advantage gained from Fisher's approach is that we project a generic multidimensional problem transforming it into a mono dimensional one; this simplify for example the calculus of the misclassified samples"
   ]
  },
  {
   "cell_type": "markdown",
   "id": "3b14e4ca",
   "metadata": {},
   "source": [
    "### Evaluating Classification Functions\n",
    "One important way of judging the performance of any classification procedure is to\n",
    "calculate its “error rates,” or misclassification probabilities. "
   ]
  },
  {
   "cell_type": "code",
   "execution_count": 14,
   "id": "5a0e3687",
   "metadata": {},
   "outputs": [
    {
     "data": {
      "text/latex": [
       "we deal with 2 univariate normal distributed random variable with : $\\mu_{y_1} = \\vec{a}^T \\vec{x} = (\\vec{\\mu}_1 -\\vec{\\mu}_2)^T \\Sigma^{-1} \\vec{\\mu}_1 $, $\\mu_{y_2} = \\vec{a}^T \\vec{x} = (\\vec{\\mu}_1 -\\vec{\\mu}_2)^T \\Sigma^{-1} \\vec{\\mu}_2$ and $\\sigma_y^2 = \\vec{a}^T \\Sigma^{-1} \\vec{a} = (\\vec{\\mu}_1 -\\vec{\\mu}_2)^T \\Sigma^{-1} (\\vec{\\mu}_1 -\\vec{\\mu}_2) \\equiv \\Delta^2 $\n",
       "If we define now $P(1 \\rightarrow 2)$ the probability to misclassify a sample belonging to class $1$ as a membre of class $2$ (so that it corresponding y is\n",
       "after the one corrisponding to the division boundary), we have that:\n",
       "\\begin{equation}\n",
       "    P(1 \\rightarrow 2) = P \\bigg(y < (\\vec{\\mu}_1 -\\vec{\\mu}_2)^T \\Sigma^{-1} \\frac{(\\vec{\\mu}_1 + \\vec{\\mu}_2)}{2}\\bigg) = P \\bigg(\\frac{y-\\mu_{y_1}}{\\sigma_y} < \\frac{(\\vec{\\mu}_1 -\\vec{\\mu}_2)^T \\Sigma^{-1} \\frac{(\\vec{\\mu}_1 + \\vec{\\mu}_2)}{2} - (\\vec{\\mu}_1 -\\vec{\\mu}_2)^T \\Sigma^{-1} \\vec{\\mu}_1 }{\\Delta} \\bigg) = P \\bigg( Z < \\frac{\\frac{\\Delta^2}{2}}{\\Delta} \\bigg) = \\Phi \\bigg(\\frac{-\\Delta}{2} \\bigg)\n",
       "\\end{equation}\n",
       "In the same way\n",
       "\\begin{equation}\n",
       "    P(2 \\rightarrow 1) = P \\bigg(y \\geq (\\vec{\\mu}_1 -\\vec{\\mu}_2)^T \\Sigma^{-1} \\frac{(\\vec{\\mu}_1 + \\vec{\\mu}_2)}{2}\\bigg) =  P \\bigg( Z \\geq \\frac{\\frac{\\Delta^2}{2}}{\\Delta} \\bigg) = 1- \\Phi \\bigg(\\frac{\\Delta}{2} \\bigg) = \\Phi \\bigg(\\frac{-\\Delta}{2} \\bigg)\n",
       "\\end{equation}\n",
       "Therefore, the optimum error rate is (the two contribution are weighted with $\\frac{1}{2}$ because the prior is equal for the 2 classes):\n",
       "\\begin{equation}\n",
       "    OER = \\frac{1}{2} P(1 \\rightarrow 2) + \\frac{1}{2} P(2 \\rightarrow 1) =  \\Phi \\bigg(\\frac{-\\Delta}{2} \\bigg)\n",
       "\\end{equation}\n",
       "\n",
       "We can calculate the gaussian definite integral numericaly but we can also use the error function asymptotic expansion to\n",
       "obtain an expression in terms of the problem's parameters.\n",
       "IN particular we can proceed\n",
       "\\begin{equation}\n",
       "    \\int_t^{\\infty} dx' e^{-x'^2} = \\frac{1}{\\sqrt{\\pi}t}e^{-t^2} - \\int_t^{\\infty} dx'\\frac{1}{x'^2} e^{-x'^2} =\n",
       "                                                                                      \\frac{1}{\\sqrt{\\pi}t}e^{-t^2} - \\int_t^{\\infty} dx'^2 \\frac{1}{(x'^2)^{\\frac{3}{2}}} e^{-x'^2} \n",
       "\\end{equation}\n",
       "Iterating the same procedure (integrating by parts) we obtain a series expansion\n",
       "\\begin{equation}\n",
       "    \\int_t^{\\infty} dx' e^{-x'^2} = \\frac{1}{\\sqrt{\\pi}}e^{-t^2} \\sum_{n=0}^{N-1} \\frac{(-1)^n (|2n-1|)!!}{(2)^n} \\frac{1}{t^{2n+1}} + R_N(t)\n",
       "\\end{equation}\n",
       "\n",
       "where the $R_N(t)$ is the remainder; it's easy to see that this series is not convergent (we can find a convergent series for this integral proceeding in a different way); \n",
       "besides the serie is asymptotic, in fact:\n",
       "\\begin{equation}\n",
       "    |R_N(t)| = C_N|\\int_{t^2}^{\\infty} ds s^{\\frac{-1}{2}-n}e^{-s}| \\leq C_N\\int_{t^2}^{\\infty} ds |s^{\\frac{-1}{2}-N}|e^{-s} = C_N\\int_{t^2}^{\\infty} ds s^{\\frac{-1}{2}-N} e^{-s} = C_N \\frac{e^{-t^2}}{t^{2N+1}} - C_{N+1}  \\int_{t^2}^{\\infty} ds s^{\\frac{-1}{2}-N+1}e^{-s} \\leq C_N \\frac{e^{-t^2}}{t^{2N+1}}\n",
       "\\end{equation}\n",
       "So the modulus of the reminder is lower than the first term that we neglet; the series is so asymptotic. Furtermore we can use the first neglected term as an upper bound of the uncertainty. \n"
      ],
      "text/plain": [
       "<IPython.core.display.Latex object>"
      ]
     },
     "metadata": {},
     "output_type": "display_data"
    }
   ],
   "source": [
    "%%latex \n",
    "we deal with 2 univariate normal distributed random variable with : $\\mu_{y_1} = \\vec{a}^T \\vec{x} = (\\vec{\\mu}_1 -\\vec{\\mu}_2)^T \\Sigma^{-1} \\vec{\\mu}_1 $, $\\mu_{y_2} = \\vec{a}^T \\vec{x} = (\\vec{\\mu}_1 -\\vec{\\mu}_2)^T \\Sigma^{-1} \\vec{\\mu}_2$ and $\\sigma_y^2 = \\vec{a}^T \\Sigma^{-1} \\vec{a} = (\\vec{\\mu}_1 -\\vec{\\mu}_2)^T \\Sigma^{-1} (\\vec{\\mu}_1 -\\vec{\\mu}_2) \\equiv \\Delta^2 $\n",
    "If we define now $P(1 \\rightarrow 2)$ the probability to misclassify a sample belonging to class $1$ as a membre of class $2$ (so that it corresponding y is\n",
    "after the one corrisponding to the division boundary), we have that:\n",
    "\\begin{equation}\n",
    "    P(1 \\rightarrow 2) = P \\bigg(y < (\\vec{\\mu}_1 -\\vec{\\mu}_2)^T \\Sigma^{-1} \\frac{(\\vec{\\mu}_1 + \\vec{\\mu}_2)}{2}\\bigg) = P \\bigg(\\frac{y-\\mu_{y_1}}{\\sigma_y} < \\frac{(\\vec{\\mu}_1 -\\vec{\\mu}_2)^T \\Sigma^{-1} \\frac{(\\vec{\\mu}_1 + \\vec{\\mu}_2)}{2} - (\\vec{\\mu}_1 -\\vec{\\mu}_2)^T \\Sigma^{-1} \\vec{\\mu}_1 }{\\Delta} \\bigg) = P \\bigg( Z < \\frac{\\frac{\\Delta^2}{2}}{\\Delta} \\bigg) = \\Phi \\bigg(\\frac{-\\Delta}{2} \\bigg)\n",
    "\\end{equation}\n",
    "In the same way\n",
    "\\begin{equation}\n",
    "    P(2 \\rightarrow 1) = P \\bigg(y \\geq (\\vec{\\mu}_1 -\\vec{\\mu}_2)^T \\Sigma^{-1} \\frac{(\\vec{\\mu}_1 + \\vec{\\mu}_2)}{2}\\bigg) =  P \\bigg( Z \\geq \\frac{\\frac{\\Delta^2}{2}}{\\Delta} \\bigg) = 1- \\Phi \\bigg(\\frac{\\Delta}{2} \\bigg) = \\Phi \\bigg(\\frac{-\\Delta}{2} \\bigg)\n",
    "\\end{equation}\n",
    "Therefore, the optimum error rate is (the two contribution are weighted with $\\frac{1}{2}$ because the prior is equal for the 2 classes):\n",
    "\\begin{equation}\n",
    "    OER = \\frac{1}{2} P(1 \\rightarrow 2) + \\frac{1}{2} P(2 \\rightarrow 1) =  \\Phi \\bigg(\\frac{-\\Delta}{2} \\bigg)\n",
    "\\end{equation}\n",
    "\n",
    "We can calculate the gaussian definite integral numericaly but we can also use the error function asymptotic expansion to\n",
    "obtain an expression in terms of the problem's parameters.\n",
    "IN particular we can proceed\n",
    "\\begin{equation}\n",
    "    \\int_t^{\\infty} dx' e^{-x'^2} = \\frac{1}{\\sqrt{\\pi}t}e^{-t^2} - \\int_t^{\\infty} dx'\\frac{1}{x'^2} e^{-x'^2} =\n",
    "                                                                                      \\frac{1}{\\sqrt{\\pi}t}e^{-t^2} - \\int_t^{\\infty} dx'^2 \\frac{1}{(x'^2)^{\\frac{3}{2}}} e^{-x'^2} \n",
    "\\end{equation}\n",
    "Iterating the same procedure (integrating by parts) we obtain a series expansion\n",
    "\\begin{equation}\n",
    "    \\int_t^{\\infty} dx' e^{-x'^2} = \\frac{1}{\\sqrt{\\pi}}e^{-t^2} \\sum_{n=0}^{N-1} \\frac{(-1)^n (|2n-1|)!!}{(2)^n} \\frac{1}{t^{2n+1}} + R_N(t)\n",
    "\\end{equation}\n",
    "\n",
    "where the $R_N(t)$ is the remainder; it's easy to see that this series is not convergent (we can find a convergent series for this integral proceeding in a different way); \n",
    "besides the serie is asymptotic, in fact:\n",
    "\\begin{equation}\n",
    "    |R_N(t)| = C_N|\\int_{t^2}^{\\infty} ds s^{\\frac{-1}{2}-n}e^{-s}| \\leq C_N\\int_{t^2}^{\\infty} ds |s^{\\frac{-1}{2}-N}|e^{-s} = C_N\\int_{t^2}^{\\infty} ds s^{\\frac{-1}{2}-N} e^{-s} = C_N \\frac{e^{-t^2}}{t^{2N+1}} - C_{N+1}  \\int_{t^2}^{\\infty} ds s^{\\frac{-1}{2}-N+1}e^{-s} \\leq C_N \\frac{e^{-t^2}}{t^{2N+1}}\n",
    "\\end{equation}\n",
    "So the modulus of the reminder is lower than the first term that we neglet; the series is so asymptotic. Furtermore we can use the first neglected term as an upper bound of the uncertainty. "
   ]
  },
  {
   "cell_type": "markdown",
   "id": "64162ad9",
   "metadata": {},
   "source": [
    "## Numerical simulation\n",
    "We will use the previous result on a numerical simulation; in particular we consider 2 2-dimensional gaussian blobs.\n",
    "### Note\n",
    "We choose bidimensional gaussian blobs because we want to avoid errors on the accuracy estimation (performed throught the previous asymtotic expansion) due to a weak sampling of the distribution's tails: for this reason we start considering blobs not too distant (in this way the area that gives leading contribution of the misclassification is well sampled and the empirical distribution well reproduce the theoretical one); for the same reason we considered low dimensional blobs (to reduce dispersion over angular area).\n",
    "\n",
    "### Logistic Steepness measure\n",
    "We start comparing as a first estimation for the hardness the steepness of the logistic function, measured throught the norm of the vector introduced before. We can estimate this vector from the distribution parameters or from the networks parameters; so this is also useful to check the network converge to the optimal solution\n"
   ]
  },
  {
   "cell_type": "code",
   "execution_count": 11,
   "id": "4830438a",
   "metadata": {},
   "outputs": [
    {
     "data": {
      "application/javascript": [
       "IPython.OutputArea.auto_scroll_threshold = 9999;\n"
      ],
      "text/plain": [
       "<IPython.core.display.Javascript object>"
      ]
     },
     "metadata": {},
     "output_type": "display_data"
    }
   ],
   "source": [
    "%%javascript\n",
    "IPython.OutputArea.auto_scroll_threshold = 9999;"
   ]
  },
  {
   "cell_type": "code",
   "execution_count": 12,
   "id": "690f1789",
   "metadata": {
    "scrolled": false
   },
   "outputs": [
    {
     "name": "stdout",
     "output_type": "stream",
     "text": [
      "(2, 101)\n"
     ]
    },
    {
     "data": {
      "image/png": "[encoded data removed]",
      "text/plain": [
       "<Figure size 640x480 with 1 Axes>"
      ]
     },
     "metadata": {
      "needs_background": "light"
     },
     "output_type": "display_data"
    },
    {
     "data": {
      "image/png": "[encoded data removed]",
      "text/plain": [
       "<Figure size 640x480 with 1 Axes>"
      ]
     },
     "metadata": {
      "needs_background": "light"
     },
     "output_type": "display_data"
    },
    {
     "data": {
      "image/png": "[encoded data removed]",
      "text/plain": [
       "<Figure size 640x480 with 1 Axes>"
      ]
     },
     "metadata": {
      "needs_background": "light"
     },
     "output_type": "display_data"
    }
   ],
   "source": [
    "import numpy as np\n",
    "import matplotlib.pyplot as plt\n",
    "import os\n",
    "\n",
    "\n",
    "\n",
    "\n",
    "\n",
    "ParentFolder = './SimulationResult/StepnessAccuracyEstimate/2DNearBlobs'\n",
    "\n",
    "#this fuction search recoursively inside the folder=parent the files with name= FileName, open them and append the variables inside Var (whIch is the object returned)\n",
    "def FileFinder(parent, FileName, Var):\n",
    "    for child in os.listdir(parent):\n",
    "        if child == FileName:\n",
    "            Vartemp = np.loadtxt( \"\".join((parent, \"/\", child)) , delimiter = ',')\n",
    "            Var.append(Vartemp)\n",
    "            #cosa fa\n",
    "        else:\n",
    "            current_path = \"\".join((parent, \"/\", child))\n",
    "            if os.path.isdir(current_path):\n",
    "                # if we're checking a sub-directory, recursively call this method\n",
    "                FileFinder(current_path, FileName, Var)            \n",
    "    return Var\n",
    "\n",
    "Time = []\n",
    "Diff = []\n",
    "SteepNorm = []\n",
    "TestLoss = []\n",
    "TrainingLoss = []\n",
    "TrainingAcc = []\n",
    "\n",
    "DistrPar = []\n",
    "ClassesLoss = []\n",
    "\n",
    "num_classes = 2\n",
    "n_epochs = 100\n",
    "\n",
    "Time = FileFinder(ParentFolder, 'time.txt', Time)\n",
    "#print(Time)\n",
    "#print(len(Time))\n",
    "Time = np.mean(Time, axis=0)\n",
    "\n",
    "\n",
    "Diff = FileFinder(ParentFolder, 'DiffSteepnessNorm.txt', Diff)\n",
    "StdDiff = np.divide(np.nanstd(Diff, axis=0), np.sqrt(np.sum(~np.isnan(Diff), axis = 0)))\n",
    "MeanDiff = np.nanmean(Diff, axis = 0)\n",
    "\n",
    "SteepNorm = FileFinder(ParentFolder, 'SteepnessNorm.txt', SteepNorm)\n",
    "StdSteepNorm = np.divide(np.nanstd(SteepNorm, axis=0), np.sqrt(np.sum(~np.isnan(SteepNorm), axis = 0)))\n",
    "MeanSteepNorm = np.nanmean(SteepNorm, axis = 0)\n",
    "\n",
    "\n",
    "TrainingLoss = FileFinder(ParentFolder, 'TrainingLoss.txt', TrainingLoss)\n",
    "StdTrainingLoss = np.divide(np.nanstd(TrainingLoss, axis=0), np.sqrt(np.sum(~np.isnan(TrainingLoss), axis = 0)))\n",
    "MeanTrainingLoss = np.nanmean(TrainingLoss, axis = 0)                         \n",
    "                          \n",
    "TrainingAcc = FileFinder(ParentFolder, 'TrainAcc.txt', TrainingAcc)\n",
    "TrainingAcc = [x /100. for x in TrainingAcc]\n",
    "StdTrainingAcc = np.divide(np.nanstd(TrainingAcc, axis=0), np.sqrt(np.sum(~np.isnan(TrainingAcc), axis = 0)))\n",
    "MeanTrainingAcc = np.nanmean(TrainingAcc, axis = 0)\n",
    "\n",
    "DistrPar = FileFinder(ParentFolder, 'DeltaSq_Inaccuracy_UncertUpperBond.txt', DistrPar)\n",
    "DistrPar = np.nanmean(DistrPar, axis = 0)\n",
    "\n",
    "\n",
    "ClassesLoss = FileFinder(ParentFolder, 'TrainClassesLoss.txt', ClassesLoss)\n",
    "ClassesLoss = [x /100000. for x in ClassesLoss]\n",
    "StdClassesLoss = np.divide(np.nanstd(ClassesLoss, axis=0), np.sqrt(np.sum(~np.isnan(ClassesLoss), axis = 0)))\n",
    "MeanClassesLoss = np.nanmean(ClassesLoss, axis = 0)\n",
    "print(MeanClassesLoss.shape)\n",
    "\n",
    "\n",
    "plt.figure(figsize=(8, 6), dpi=80)\n",
    "plt.title(\"Training Loss\")\n",
    "#plt.errorbar(Time, MeanTestLoss, yerr = StdTestLoss, label = 'Test')\n",
    "plt.errorbar(Time, MeanTrainingLoss, yerr = StdTrainingLoss, label = 'Training')\n",
    "plt.xlabel(r'$\\log(t)$')\n",
    "plt.ylabel(\"Loss\")\n",
    "plt.legend()\n",
    "plt.xscale('log')\n",
    "plt.savefig('loss.pdf')\n",
    "plt.show()\n",
    "\n",
    "plt.figure(figsize=(8, 6), dpi=80)\n",
    "plt.title(\"Training Accuracy\")\n",
    "plt.errorbar(Time, MeanTrainingAcc, yerr = StdTrainingAcc, label = 'Training')\n",
    "plt.xlabel(r'$\\log(t)$')\n",
    "plt.ylabel(\"Accuracy\")\n",
    "plt.legend()\n",
    "plt.xscale('log')\n",
    "plt.savefig('accuracy.pdf')\n",
    "plt.show()\n",
    "\n",
    "\n",
    "\n",
    "plt.figure(figsize=(8, 6), dpi=80)\n",
    "plt.title(\"Logistic Steepness\")\n",
    "#plt.errorbar(Time, MeanTestLoss, yerr = StdTestLoss, label = 'Test')\n",
    "plt.axhline(y=DistrPar[3], color='r', linestyle='-', label = r'$  \\parallel \\vec{S_{\\theta}} \\parallel_2  \\equiv \\parallel \\vec{\\beta}_1 - \\vec{\\beta}_0 \\parallel_2$')\n",
    "#plt.plot(Time, DistrPar[3], label = r'$  \\lVert S_{\\theta} \\rVert  \\equiv \\lVert \\vec{\\beta}_1 - \\vec{\\beta}_0 \\rVert$')\n",
    "plt.errorbar(Time, MeanSteepNorm, yerr = StdSteepNorm, label = r'$ \\parallel \\vec{S_w}  \\parallel_2 \\equiv \\parallel \\vec{w}_1 - \\vec{w}_0 \\parallel_2$')\n",
    "plt.errorbar(Time, MeanDiff, yerr = StdDiff, label = r'$\\parallel \\vec{S_{\\theta}} - \\vec{S_w} \\parallel_2$')\n",
    "plt.xlabel(r'$\\log(t)$')\n",
    "plt.ylabel(\"Loss\")\n",
    "plt.legend()\n",
    "plt.xscale('log')\n",
    "plt.savefig('loss.pdf')\n",
    "plt.show()\n",
    "\n",
    "\n"
   ]
  },
  {
   "cell_type": "markdown",
   "id": "b0a16bb8",
   "metadata": {},
   "source": [
    "### Asymptotic accuracy \n",
    "\n",
    "We can go further and provide a more suitable measure for the hardness; given a fixed representation (input gaussian blobs in our case) we can identify the hardness of the classification with the misclassification's rate (or probability) between the 2 classes. In our 2 class problem this is basically $1-A$, where A indicates the accuracy.\n",
    "Following the reasoning of previous section we can provide an estimation of this quantity from using the asymptotic expansion of the gaussian integral; in the following plot the 2 quantity are compared; in particular we consider the truncated serie which only includes the first term (S_0); the error bar is provided by the first excluded term, which is an upper bound for the real reminder."
   ]
  },
  {
   "cell_type": "code",
   "execution_count": 13,
   "id": "e4e32142",
   "metadata": {},
   "outputs": [
    {
     "data": {
      "image/png": "[encoded data removed]",
      "text/plain": [
       "<Figure size 640x480 with 1 Axes>"
      ]
     },
     "metadata": {
      "needs_background": "light"
     },
     "output_type": "display_data"
    }
   ],
   "source": [
    "plt.figure(figsize=(8, 6), dpi=80)\n",
    "plt.title(\"Misclassification rate\")\n",
    "#plt.errorbar(Time, MeanTestLoss, yerr = StdTestLoss, label = 'Test')\n",
    "plt.errorbar(Time, 1-MeanTrainingAcc, yerr = StdTrainingAcc, label = '1-Accuracy')\n",
    "plt.axhline(y=DistrPar[1], color='r', linestyle='-', label = r\"$S_0$\")\n",
    "plt.axhline(y=(DistrPar[1] + DistrPar[2]), color='r', linestyle='--')\n",
    "plt.axhline(y=(DistrPar[1] - DistrPar[2]), color='r', linestyle='--')\n",
    "plt.xlabel(r'$\\log(t)$')\n",
    "plt.ylabel(\"1-Accuracy\")\n",
    "plt.legend()\n",
    "plt.xscale('log')\n",
    "plt.savefig('loss.pdf')\n",
    "plt.show()"
   ]
  },
  {
   "cell_type": "code",
   "execution_count": null,
   "id": "c98afd93",
   "metadata": {},
   "outputs": [],
   "source": []
  }
 ],
 "metadata": {
  "kernelspec": {
   "display_name": "Python 3",
   "language": "python",
   "name": "python3"
  },
  "language_info": {
   "codemirror_mode": {
    "name": "ipython",
    "version": 3
   },
   "file_extension": ".py",
   "mimetype": "text/x-python",
   "name": "python",
   "nbconvert_exporter": "python",
   "pygments_lexer": "ipython3",
   "version": "3.8.8"
  }
 },
 "nbformat": 4,
 "nbformat_minor": 5
}
